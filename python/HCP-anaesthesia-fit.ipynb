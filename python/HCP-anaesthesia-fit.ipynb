{
 "cells": [
  {
   "cell_type": "code",
   "execution_count": 17,
   "metadata": {},
   "outputs": [],
   "source": [
    "from scipy.signal import butter, lfilter\n",
    "import fastdyn_fic_dmf as dmf\n",
    "import numpy as np\n",
    "import matplotlib.pyplot as plt\n",
    "# Fetch default parameters\n",
    "import tracemalloc\n",
    "from scipy.io import loadmat\n",
    "from scipy.stats import zscore, pearsonr\n",
    "import numpy as np\n",
    "import matplotlib.pyplot as plt\n",
    "from scipy.stats import ks_2samp\n",
    "import os\n",
    "import pickle as pkl\n",
    "from joblib import Parallel, delayed\n",
    "import mat73\n",
    "def compute_fcd(data, wsize, overlap, isubdiag):\n",
    "    T, N = data.shape\n",
    "    win_start = np.arange(0, T - wsize - 1, wsize - overlap)\n",
    "    nwins = len(win_start)\n",
    "    fcd = np.zeros((len(isubdiag[0]), nwins))\n",
    "    print(fcd.shape)\n",
    "    print(data.shape)\n",
    "    print((data[win_start[2]:win_start[2] + wsize + 1, :]).shape)\n",
    "    for i in range(nwins):\n",
    "        tmp = data[win_start[i]:win_start[i] + wsize + 1, :]\n",
    "        cormat = np.corrcoef(tmp.T)\n",
    "        fcd[:, i] = cormat[isubdiag[0],isubdiag[1]]\n",
    "    return fcd\n",
    "\n",
    "from scipy.signal import find_peaks\n",
    "def get_peak_and_ms_rate(rates):\n",
    "    \"\"\"Get the value of the first peak from the autocorrealtion of the average firing rates\"\"\"\n",
    "    signal = np.mean(rates, axis=0)\n",
    "    signal -= np.mean(signal)\n",
    "\n",
    "    # Calculate autocorrelation function\n",
    "    autocorr = np.correlate(signal, signal, mode='full')\n",
    "\n",
    "    # Normalize the autocorrelation function\n",
    "    autocorr = autocorr / np.var(signal) / len(signal)\n",
    "    autocorr = autocorr[len(signal)-1:]\n",
    "    peaks, _ = find_peaks(autocorr, height=(0.2,0.8), prominence=0.2)\n",
    "    if peaks.size==0:\n",
    "        autocorr_value = 0\n",
    "        time = 0\n",
    "    else:\n",
    "        autocorr_value = autocorr[peaks[0]]\n",
    "        time = peaks[0]\n",
    "    return autocorr_value,time\n",
    "\n",
    "def get_peak_and_ms_bold(bold):\n",
    "    \"\"\"Get the value of the first peak from the autocorrealtion of the average  bold\"\"\"\n",
    "    signal = np.mean(bold, axis=0)\n",
    "    signal -= np.mean(signal)\n",
    "\n",
    "    # Calculate autocorrelation function\n",
    "    autocorr = np.correlate(signal, signal, mode='full')\n",
    "\n",
    "    # Normalize the autocorrelation function\n",
    "    autocorr = autocorr / np.var(signal) / len(signal)\n",
    "    autocorr = autocorr[len(signal)-1:]\n",
    "    peaks, _ = find_peaks(autocorr, height=(0.2,0.8), prominence=0.2)\n",
    "    if peaks.size==0:\n",
    "        autocorr_value = 0\n",
    "        time = 0\n",
    "    else:\n",
    "        autocorr_value = autocorr[peaks[0]]\n",
    "        time = peaks[0]\n",
    "    return autocorr_value,time"
   ]
  },
  {
   "cell_type": "code",
   "execution_count": 18,
   "metadata": {},
   "outputs": [],
   "source": [
    "data_struct_deep = mat73.loadmat('data/BOLD_timeseries_Deep.mat')['BOLD_timeseries_Deep']\n",
    "data_struct_awake = mat73.loadmat('data/BOLD_timeseries_Awake.mat')['BOLD_timeseries_Awake']"
   ]
  },
  {
   "cell_type": "code",
   "execution_count": 19,
   "metadata": {},
   "outputs": [],
   "source": [
    "NREGIONS = 200\n",
    "data_deep = np.zeros((len(data_struct_deep), NREGIONS, data_struct_deep[0][0].shape[1]))\n",
    "for i in range(len(data_struct_deep)):\n",
    "    data_deep[i] = data_struct_deep[i][0][:NREGIONS, :]\n",
    "# Z-score each region time series for each subject\n",
    "data_zscored_deep = np.zeros(data_deep.shape)\n",
    "for i in range(len(data_deep)):\n",
    "    data_zscored_deep[i] = zscore(data_deep[i], axis=1)"
   ]
  },
  {
   "cell_type": "code",
   "execution_count": 20,
   "metadata": {},
   "outputs": [],
   "source": [
    "data_awake = np.zeros((len(data_struct_awake), NREGIONS, data_struct_awake[0][0].shape[1]))\n",
    "for i in range(len(data_struct_awake)):\n",
    "    data_awake[i] = data_struct_awake[i][0][:NREGIONS, :]\n",
    "# Z-score each region time series for each subject\n",
    "data_zscored_awake = np.zeros(data_awake.shape)\n",
    "for i in range(len(data_awake)):\n",
    "    data_zscored_awake[i] = zscore(data_awake[i], axis=1)"
   ]
  },
  {
   "cell_type": "code",
   "execution_count": 24,
   "metadata": {},
   "outputs": [],
   "source": [
    "# Compare the autocorrelation values between the two states\n",
    "#autocorr_values_deep = np.zeros((len(data_zscored_deep), NREGIONS))\n",
    "#autocorr_values_awake = np.zeros((len(data_zscored_awake), NREGIONS))\n",
    "#times_deep = np.zeros((len(data_zscored_deep), NREGIONS))\n",
    "#times_awake = np.zeros((len(data_zscored_awake), NREGIONS))\n",
    "\n",
    "autocorr_values_deep = np.zeros((len(data_zscored_deep), ))\n",
    "autocorr_values_awake = np.zeros((len(data_zscored_awake), ))\n",
    "times_deep = np.zeros((len(data_zscored_deep), ))\n",
    "times_awake = np.zeros((len(data_zscored_awake), ))\n",
    "\n",
    "for i in range(len(data_zscored_deep)):\n",
    "    #for j in range(NREGIONS):\n",
    "    autocorr_values_deep[i],times_deep[i] = get_peak_and_ms_bold(data_zscored_deep[i,:,:])\n",
    "for i in range(len(data_zscored_awake)):\n",
    "    #for j in range(NREGIONS):\n",
    "    autocorr_values_awake[i],times_awake[i] = get_peak_and_ms_bold(data_zscored_awake[i,:,:])"
   ]
  },
  {
   "cell_type": "code",
   "execution_count": 25,
   "metadata": {},
   "outputs": [
    {
     "data": {
      "text/plain": [
       "array([0.27825953, 0.25845929, 0.26384256, 0.24667986, 0.24521791,\n",
       "       0.23626612, 0.22019747, 0.        , 0.21412076, 0.21933481,\n",
       "       0.26632232, 0.21551434, 0.21135704, 0.22467154, 0.27665878,\n",
       "       0.        ])"
      ]
     },
     "execution_count": 25,
     "metadata": {},
     "output_type": "execute_result"
    }
   ],
   "source": [
    "autocorr_values_awake"
   ]
  },
  {
   "cell_type": "code",
   "execution_count": 26,
   "metadata": {},
   "outputs": [
    {
     "data": {
      "text/plain": [
       "array([0.22560761, 0.        , 0.26207739, 0.25396531, 0.20332882,\n",
       "       0.21517188, 0.        , 0.26432653, 0.21276896, 0.        ,\n",
       "       0.        , 0.        , 0.        , 0.25440396, 0.22422646,\n",
       "       0.        ])"
      ]
     },
     "execution_count": 26,
     "metadata": {},
     "output_type": "execute_result"
    }
   ],
   "source": [
    "autocorr_values_deep"
   ]
  }
 ],
 "metadata": {
  "kernelspec": {
   "display_name": "fic",
   "language": "python",
   "name": "python3"
  },
  "language_info": {
   "codemirror_mode": {
    "name": "ipython",
    "version": 3
   },
   "file_extension": ".py",
   "mimetype": "text/x-python",
   "name": "python",
   "nbconvert_exporter": "python",
   "pygments_lexer": "ipython3",
   "version": "3.9.18"
  }
 },
 "nbformat": 4,
 "nbformat_minor": 2
}
