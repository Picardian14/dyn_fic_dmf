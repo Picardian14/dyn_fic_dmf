{
 "cells": [
  {
   "cell_type": "code",
   "execution_count": 1,
   "metadata": {},
   "outputs": [],
   "source": [
    "import fastdyn_fic_dmf as dmf\n",
    "import numpy as np\n",
    "from scipy.io import loadmat\n",
    "import os\n",
    "from multiprocessing import Pool, Manager\n",
    "\n",
    "C = loadmat('./data/DTI_fiber_consensus_HCP.mat')['connectivity'][:200, :200]\n",
    "C = 0.2 * C / np.max(C)\n",
    "params = dmf.default_params(C=C)"
   ]
  },
  {
   "cell_type": "code",
   "execution_count": 2,
   "metadata": {},
   "outputs": [],
   "source": [
    "C = loadmat('./data/DTI_fiber_consensus_HCP.mat')['connectivity'][:200, :200]\n",
    "C2 = 0.2 * C2 / np.max(C2)\n"
   ]
  },
  {
   "cell_type": "code",
   "execution_count": 4,
   "metadata": {},
   "outputs": [
    {
     "data": {
      "text/plain": [
       "(200, 200)"
      ]
     },
     "execution_count": 4,
     "metadata": {},
     "output_type": "execute_result"
    }
   ],
   "source": [
    "C2.shape"
   ]
  },
  {
   "cell_type": "code",
   "execution_count": null,
   "metadata": {},
   "outputs": [],
   "source": [
    "\n",
    "\n",
    "# Main setup for this simulation\n",
    "params[\"return_rate\"] = True\n",
    "params[\"return_bold\"] = False\n",
    "params[\"return_fic\"] = True  # Ensure fic_t is returned\n",
    "params[\"with_plasticity\"] = True\n",
    "params[\"with_decay\"] = True\n",
    "\n",
    "G_range = np.arange(0, 8.5, 0.5)\n",
    "LR_range = np.logspace(0, 3, 100)\n",
    "DECAY_range = np.logspace(2, 6, 110)\n",
    "\n",
    "\n",
    "burnout = 7\n",
    "nb_steps = 50000\n",
    "\n",
    "# Define the number of cores to use\n",
    "NUM_CORES = 24\n",
    "\n",
    "mean_hom_fit_grid = np.zeros((len(DECAY_range), len(LR_range)))\n",
    "std_hom_fit_grid = np.zeros((len(DECAY_range), len(LR_range)))\n",
    "hom_grid = np.zeros((len(DECAY_range), len(LR_range), len(G_range)))\n",
    "fic_t_grid = np.zeros((len(DECAY_range), len(LR_range), len(G_range), C.shape[0]))\n",
    "\n",
    "def grid_step(args):\n",
    "    DECAY_tuple, LR_tuple = args\n",
    "    idx_LR, LR = LR_tuple[0], LR_tuple[1]\n",
    "    idx_DECAY, DECAY = DECAY_tuple[0], DECAY_tuple[1]\n",
    "    #print(f\"Doing {DECAY} {LR}\")\n",
    "    OBJ_RATE = 3.44    \n",
    "    params['lrj'] = LR\n",
    "    params['taoj'] = DECAY \n",
    "    params['obj_rate'] = OBJ_RATE\n",
    "    all_fits = []\n",
    "    all_fic_t = np.zeros((len(G_range), C.shape[0]))\n",
    "    for idx_G in range(len(G_range)):        \n",
    "        params['G'] = G_range[idx_G]\n",
    "        params['seed'] = idx_G\n",
    "        params['J'] = 0.75 * params['G'] * params['C'].sum(axis=0).squeeze() + 1\n",
    "        rates, _, _, fic_t = dmf.run(params, nb_steps)     \n",
    "        \n",
    "        rates = rates[:, np.ceil(burnout * 1000).astype(int):]\n",
    "        all_fits.append(OBJ_RATE - np.mean(rates))\n",
    "        all_fic_t[idx_G] = np.mean(fic_t, axis=1)\n",
    "    \n",
    "    mean_homeostatic_fittness = np.mean(np.array(all_fits))\n",
    "    std_homeostatic_fittness = np.std(np.array(all_fits))\n",
    "    \n",
    "    return idx_DECAY, idx_LR, mean_homeostatic_fittness, std_homeostatic_fittness, np.array(all_fits), np.array(all_fic_t)\n",
    "\n",
    "# Create a list of argument tuples for the nested loop function\n",
    "args_list = [((idx_DECAY, DECAY), (idx_LR, LR))\n",
    "             for idx_DECAY, DECAY in enumerate(DECAY_range)             \n",
    "             for idx_LR, LR in enumerate(LR_range)]\n",
    "\n",
    "manager = Manager()\n",
    "results_list = manager.list()\n",
    "\n",
    "# Create a pool of worker processes\n",
    "with Pool(processes=NUM_CORES) as pool:\n",
    "    # Map the nested loop function to the argument list across multiple processes\n",
    "    results_list.extend(pool.map(grid_step, args_list))\n",
    "\n",
    "for results in results_list:\n",
    "    idx_DECAY = results[0]    \n",
    "    idx_LR = results[1]\n",
    "    mean_hom = results[2]\n",
    "    std_hom = results[3] \n",
    "    hom = results[4]\n",
    "    fic_t = results[5]\n",
    "    \n",
    "    mean_hom_fit_grid[idx_DECAY, idx_LR] = mean_hom \n",
    "    std_hom_fit_grid[idx_DECAY, idx_LR] = std_hom\n",
    "    hom_grid[idx_DECAY, idx_LR] = hom\n",
    "    fic_t_grid[idx_DECAY, idx_LR] = fic_t\n",
    "    \n",
    "arrays_to_save = {\n",
    "    'mean_hom_fit_grid': mean_hom_fit_grid,\n",
    "    'std_hom_fit_grid': std_hom_fit_grid,\n",
    "    'hom_grid': hom_grid,\n",
    "    'fic_t_grid': fic_t_grid        \n",
    "}\n",
    "\n",
    "results_folder = \"./Results/Figure1/HomeostaticFit3-44-Grid\"\n",
    "if not os.path.exists(results_folder):\n",
    "    # If not, create the folder\n",
    "    os.makedirs(results_folder)\n",
    "    print(f\"Folder '{results_folder}' created successfully.\")\n",
    "else:\n",
    "    print(f\"Folder '{results_folder}' already exists.\")\n",
    "    \n",
    "# Save\n",
    "for array_name, array_data in arrays_to_save.items():\n",
    "    file_name = os.path.join(results_folder, f\"{array_name}.npy\")\n",
    "    np.save(file_name, array_data)\n"
   ]
  }
 ],
 "metadata": {
  "kernelspec": {
   "display_name": "fic",
   "language": "python",
   "name": "python3"
  },
  "language_info": {
   "codemirror_mode": {
    "name": "ipython",
    "version": 3
   },
   "file_extension": ".py",
   "mimetype": "text/x-python",
   "name": "python",
   "nbconvert_exporter": "python",
   "pygments_lexer": "ipython3",
   "version": "3.9.18"
  }
 },
 "nbformat": 4,
 "nbformat_minor": 2
}
