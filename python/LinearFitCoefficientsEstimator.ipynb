{
 "cells": [
  {
   "cell_type": "code",
   "execution_count": 1,
   "metadata": {},
   "outputs": [],
   "source": [
    "import numpy as np\n",
    "import os\n",
    "import time\n",
    "import seaborn as sns\n",
    "import numpy as np\n",
    "import pandas as pd\n",
    "# import fastdyn_fic_dmf as dmf\n",
    "import matplotlib.pyplot as plt\n",
    "from mpl_toolkits.mplot3d import Axes3D\n",
    "from scipy.io import loadmat\n",
    "from scipy import stats\n",
    "import mat73\n",
    "from scipy.stats import pearsonr\n",
    "from scipy.spatial.distance import cdist\n",
    "from matplotlib.gridspec import GridSpec\n",
    "\n",
    "\n",
    "# Loading data\n",
    "# datafolder = 'C:/Users/rherz/OneDrive/Documents/Projects/dynFIC/data2plot/'\n",
    "# figfold = 'C:/Users/rherz/OneDrive/Documents/Projects/dynFIC/paper_fig/paper_figs/figures/'\n",
    "#datafolder = '/home/ruben.herzog/OneDrive/Projects/dynFIC/data2plot/'\n",
    "#figfold = '/home/ruben.herzog/OneDrive/Projects/dynFIC/paper_figs/figures/'\n",
    "datafolder = '/home/ivan.mindlin/Desktop/DatosParaRuben/'\n",
    "figfold = '/network/lustre/iss02/home/ivan.mindlin/dyn_fic_dmf/paper_figs'\n",
    "# Homeostatic fit\n",
    "hom_fit_list = [] # 0=1.22, 1=3.44, 2=6.88, 3=50\n",
    "hom_fit_list.append(np.load(datafolder+'ChequeoPreliminar/HomeostaticFit1-22-Grid/hom_grid.npy'))\n",
    "hom_fit_list.append(np.load(datafolder+'ChequeoPreliminar/HomeostaticFit3-44-Grid/hom_grid.npy'))\n",
    "hom_fit_list.append(np.load(datafolder+'ChequeoPreliminar/HomeostaticFit6-88-Grid/hom_grid.npy'))\n",
    "hom_fit_list.append(np.load(datafolder+'ChequeoPreliminar/HomeostaticFit50-Grid/hom_grid.npy'))\n"
   ]
  },
  {
   "cell_type": "code",
   "execution_count": 36,
   "metadata": {},
   "outputs": [],
   "source": [
    "# HOMEOSTATIC FIT\n",
    "# Extracting averages over the range of G\n",
    "G_range = np.arange(0,8.5, 0.5)\n",
    "LR_range = np.logspace(0,3,100)\n",
    "DECAY_range = np.logspace(2,6,110)\n",
    "obj_rates = [1.22, 3.44, 6.88, 50]\n",
    "\n",
    "nobjs = len(obj_rates)\n",
    "ngs = len(G_range)\n",
    "nlr = len(LR_range)\n",
    "ndec = len(DECAY_range)\n",
    "lr_labels = [1, 10, 100, 1000]\n",
    "dec_labels = [100, 1000, 10000, 100000]\n",
    "\n",
    "# Mean and average over G\n",
    "mean_hom_fit = [np.mean(x,axis=2) for x in hom_fit_list]\n",
    "std_hom_fit = [np.std(x,axis=2) for x in hom_fit_list]\n",
    "\n",
    "min_decay_values = []\n",
    "min_mm_pos = []\n",
    "for o in range(nobjs):\n",
    "    min_mm_pos.append(np.argmin(np.abs(100*mean_hom_fit[o]/obj_rates[o]),axis=0))\n",
    "\n",
    "#min_mm_pos = [np.argmin(np.abs(x),axis=0) for x in mean_hom_fit]\n",
    "# Loop through each objective rate\n",
    "for i, mm_pos in enumerate(min_mm_pos):\n",
    "    # Extract the decay values corresponding to the minimum mismatch for each learning rate\n",
    "    decay_at_min_mm = DECAY_range[mm_pos]\n",
    "    min_decay_values.append(decay_at_min_mm)\n",
    "\n",
    "# Extracting Minimum mismatch\n",
    "\n",
    "# Fitting linear trend\n",
    "fit_res = list()\n",
    "fit_res_2plot = list()\n",
    "for o in range(nobjs):\n",
    "    if o==0:\n",
    "        fit_res.append(np.polyfit(np.log(LR_range[21:]), np.log(min_decay_values[o][21:]), 1))        \n",
    "    else:\n",
    "        fit_res.append(np.polyfit(np.log(LR_range), np.log(min_decay_values[o]), 1))\n",
    "        \n",
    "    \n"
   ]
  },
  {
   "cell_type": "code",
   "execution_count": 43,
   "metadata": {},
   "outputs": [
    {
     "name": "stdout",
     "output_type": "stream",
     "text": [
      "1183.1477267344299\n"
     ]
    },
    {
     "data": {
      "text/plain": [
       "1159.364995043967"
      ]
     },
     "execution_count": 43,
     "metadata": {},
     "output_type": "execute_result"
    }
   ],
   "source": [
    "rate_num = 1\n",
    "LR = LR_range[80] # 16\n",
    "fit_res = np.load(\"./data/fit_res_3-44.npy\")\n",
    "b = fit_res[0] # First element is the slope\n",
    "a = fit_res[1]\n",
    "DECAY = np.exp(a+np.log(LR)*b)\n",
    "print(DECAY)\n",
    "min_decay_values[rate_num][80]"
   ]
  },
  {
   "cell_type": "markdown",
   "metadata": {},
   "source": [
    "b"
   ]
  },
  {
   "cell_type": "code",
   "execution_count": 42,
   "metadata": {},
   "outputs": [],
   "source": [
    "# Save each pair of coefficients in 'data' folder separately for each rate\n",
    "np.save(\"./data/fit_res_1-22.npy\", fit_res[0])\n",
    "np.save(\"./data/fit_res_3-44.npy\", fit_res[1])\n",
    "np.save(\"./data/fit_res_6-88.npy\", fit_res[2])\n",
    "np.save(\"./data/fit_res_50.npy\", fit_res[3])"
   ]
  }
 ],
 "metadata": {
  "kernelspec": {
   "display_name": "fic",
   "language": "python",
   "name": "python3"
  },
  "language_info": {
   "codemirror_mode": {
    "name": "ipython",
    "version": 3
   },
   "file_extension": ".py",
   "mimetype": "text/x-python",
   "name": "python",
   "nbconvert_exporter": "python",
   "pygments_lexer": "ipython3",
   "version": "3.9.18"
  }
 },
 "nbformat": 4,
 "nbformat_minor": 2
}
