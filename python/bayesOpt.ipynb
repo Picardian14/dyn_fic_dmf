{
 "cells": [
  {
   "cell_type": "code",
   "execution_count": 12,
   "metadata": {},
   "outputs": [],
   "source": [
    "#from helper_funcs import bayes_step\n",
    "import fastdyn_fic_dmf as dmf\n",
    "from mango import Tuner, scheduler\n",
    "from scipy.io import loadmat\n",
    "import numpy as np\n",
    "\n",
    "N_JOBS = 4\n",
    "\n",
    "\n",
    "@scheduler.parallel(n_jobs=N_JOBS)\n",
    "def bayes_step(G, DECAY, LR):\n",
    "    OBJ_RATE = 3.44\n",
    "    sampling_freq = 10000\n",
    "    nb_steps = 100000\n",
    "    C = loadmat('../SC_and_5ht2a_receptors.mat')['sc90']\n",
    "    C = 0.2*C/np.max(C)\n",
    "    triu_idx = np.triu_indices(C.shape[1],1)\n",
    "    brunout = 5\n",
    "    params = dmf.default_params(C=C)\n",
    "    params['N'] = C.shape[0]\n",
    "    #print(f\"Running - G:{G} / DECAY:{DECAY} / OBJ_RATE:{OBJ_RATE} / LR:{LR} \\n\")\n",
    "    with_decay = DECAY>0\n",
    "    params['lrj'] = LR\n",
    "    params['G'] = G\n",
    "    params['taoj'] = DECAY if with_decay else 10 # If 0 it means no plasticity at all. We put some value so it does not crash\n",
    "    params['obj_rate'] = OBJ_RATE\n",
    "    #params['taoj'] = 210000\n",
    "    params['J'] = 0.75*params['G']*params['C'].sum(axis=0).squeeze() + 1\n",
    "    rates, rates_inh, _, fic_t = dmf.run(params, nb_steps,\n",
    "                                            return_rate=True, return_bold=False, return_fic=True, \n",
    "                                            with_decay=with_decay, with_plasticity=True)        \n",
    "    rates = rates[:, np.ceil(brunout * 1000).astype(int):]\n",
    "  \n",
    "    homeostatic_fittness =  np.abs(OBJ_RATE - np.mean(rates))\n",
    "    return homeostatic_fittness"
   ]
  },
  {
   "cell_type": "code",
   "execution_count": 8,
   "metadata": {},
   "outputs": [],
   "source": [
    "# Bounded region of parameter space\n",
    "lr_range = np.concatenate([np.arange(0.1, 1.1, 0.1), np.array(range(2, 401, 2))])\n",
    "pbounds = {'G': np.arange(1,6.5,0.5), 'DECAY': range(0,100001,200), 'LR':lr_range}\n",
    "conf_dict = dict(num_iteration=40, initial_random=10, batch_size=N_JOBS)"
   ]
  },
  {
   "cell_type": "code",
   "execution_count": 9,
   "metadata": {},
   "outputs": [
    {
     "name": "stderr",
     "output_type": "stream",
     "text": [
      "Best score: 0.02076457817241506: 100%|██████████| 40/40 [10:13<00:00, 15.34s/it]"
     ]
    },
    {
     "name": "stdout",
     "output_type": "stream",
     "text": [
      "best parameters: {'DECAY': 78200, 'G': 1.5, 'LR': 4.0}\n",
      "best accuracy: 0.02076457817241506\n"
     ]
    },
    {
     "name": "stderr",
     "output_type": "stream",
     "text": [
      "\n"
     ]
    }
   ],
   "source": [
    "# 8 jobs\n",
    "tuner = Tuner(pbounds, bayes_step, conf_dict)\n",
    "results = tuner.minimize()\n",
    "print('best parameters:', results['best_params'])\n",
    "print('best accuracy:', results['best_objective'])"
   ]
  },
  {
   "cell_type": "code",
   "execution_count": 11,
   "metadata": {},
   "outputs": [
    {
     "name": "stderr",
     "output_type": "stream",
     "text": [
      "Best score: 0.0995882196725093: 100%|██████████| 40/40 [09:28<00:00, 14.22s/it]"
     ]
    },
    {
     "name": "stdout",
     "output_type": "stream",
     "text": [
      "best parameters: {'DECAY': 13200, 'G': 1.0, 'LR': 20.0}\n",
      "best accuracy: 0.0995882196725093\n"
     ]
    },
    {
     "name": "stderr",
     "output_type": "stream",
     "text": [
      "\n"
     ]
    }
   ],
   "source": [
    "# 4 jobs\n",
    "tuner = Tuner(pbounds, bayes_step, conf_dict)\n",
    "results = tuner.minimize()\n",
    "print('best parameters:', results['best_params'])\n",
    "print('best accuracy:', results['best_objective'])"
   ]
  }
 ],
 "metadata": {
  "kernelspec": {
   "display_name": "fic",
   "language": "python",
   "name": "python3"
  },
  "language_info": {
   "codemirror_mode": {
    "name": "ipython",
    "version": 3
   },
   "file_extension": ".py",
   "mimetype": "text/x-python",
   "name": "python",
   "nbconvert_exporter": "python",
   "pygments_lexer": "ipython3",
   "version": "3.9.18"
  }
 },
 "nbformat": 4,
 "nbformat_minor": 2
}
