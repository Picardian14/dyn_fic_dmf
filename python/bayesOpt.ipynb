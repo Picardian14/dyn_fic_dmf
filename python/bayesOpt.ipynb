{
 "cells": [
  {
   "cell_type": "code",
   "execution_count": 15,
   "metadata": {},
   "outputs": [],
   "source": [
    "#from helper_funcs import bayes_step\n",
    "import fastdyn_fic_dmf as dmf\n",
    "from mango import Tuner, scheduler\n",
    "from scipy.io import loadmat\n",
    "import numpy as np\n",
    "\n",
    "N_JOBS = 4\n",
    "\n",
    "\n",
    "@scheduler.parallel(n_jobs=N_JOBS)\n",
    "def bayes_step(G, DECAY, LR):\n",
    "    OBJ_RATE = 3.44\n",
    "    sampling_freq = 10000\n",
    "    nb_steps = 100000\n",
    "    C = loadmat('../SC_and_5ht2a_receptors.mat')['sc90']\n",
    "    C = 0.2*C/np.max(C)\n",
    "    triu_idx = np.triu_indices(C.shape[1],1)\n",
    "    brunout = 5\n",
    "    params = dmf.default_params(C=C)\n",
    "    params['N'] = C.shape[0]\n",
    "    #print(f\"Running - G:{G} / DECAY:{DECAY} / OBJ_RATE:{OBJ_RATE} / LR:{LR} \\n\")\n",
    "    with_decay = DECAY>0\n",
    "    params['lrj'] = LR\n",
    "    params['G'] = G\n",
    "    params['taoj'] = DECAY if with_decay else 10 # If 0 it means no plasticity at all. We put some value so it does not crash\n",
    "    params['obj_rate'] = OBJ_RATE\n",
    "    #params['taoj'] = 210000\n",
    "    params['J'] = 0.75*params['G']*params['C'].sum(axis=0).squeeze() + 1\n",
    "    rates, rates_inh, _, fic_t = dmf.run(params, nb_steps,\n",
    "                                            return_rate=True, return_bold=False, return_fic=True, \n",
    "                                            with_decay=with_decay, with_plasticity=True)        \n",
    "    rates = rates[:, np.ceil(brunout * 1000).astype(int):]\n",
    "  \n",
    "    homeostatic_fittness =  np.abs(OBJ_RATE - np.mean(rates))\n",
    "    return homeostatic_fittness"
   ]
  },
  {
   "cell_type": "code",
   "execution_count": 32,
   "metadata": {},
   "outputs": [],
   "source": [
    "# Bounded region of parameter space\n",
    "lr_range = np.concatenate([np.arange(0.1, 1.1, 0.1), np.array(range(2, 401, 2))])\n",
    "pbounds = {'G': np.arange(1,6.5,0.5), 'DECAY': range(0,200,100001), 'LR':lr_range}\n",
    "conf_dict = dict(num_iteration=3, initial_random=10)"
   ]
  },
  {
   "cell_type": "code",
   "execution_count": 33,
   "metadata": {},
   "outputs": [
    {
     "name": "stderr",
     "output_type": "stream",
     "text": [
      "  0%|          | 0/40 [00:00<?, ?it/s]\n"
     ]
    },
    {
     "ename": "KeyboardInterrupt",
     "evalue": "",
     "output_type": "error",
     "traceback": [
      "\u001b[0;31m---------------------------------------------------------------------------\u001b[0m",
      "\u001b[0;31mKeyboardInterrupt\u001b[0m                         Traceback (most recent call last)",
      "\u001b[1;32m/Users/ivanmindlin/Repos/dyn_fic_dmf/python/bayesOpt.ipynb Cell 3\u001b[0m line \u001b[0;36m2\n\u001b[1;32m      <a href='vscode-notebook-cell:/Users/ivanmindlin/Repos/dyn_fic_dmf/python/bayesOpt.ipynb#W3sZmlsZQ%3D%3D?line=0'>1</a>\u001b[0m tuner \u001b[39m=\u001b[39m Tuner(pbounds, bayes_step, conf_dict)\n\u001b[0;32m----> <a href='vscode-notebook-cell:/Users/ivanmindlin/Repos/dyn_fic_dmf/python/bayesOpt.ipynb#W3sZmlsZQ%3D%3D?line=1'>2</a>\u001b[0m results \u001b[39m=\u001b[39m tuner\u001b[39m.\u001b[39;49mmaximize()\n\u001b[1;32m      <a href='vscode-notebook-cell:/Users/ivanmindlin/Repos/dyn_fic_dmf/python/bayesOpt.ipynb#W3sZmlsZQ%3D%3D?line=2'>3</a>\u001b[0m \u001b[39mprint\u001b[39m(\u001b[39m'\u001b[39m\u001b[39mbest parameters:\u001b[39m\u001b[39m'\u001b[39m, results[\u001b[39m'\u001b[39m\u001b[39mbest_params\u001b[39m\u001b[39m'\u001b[39m])\n\u001b[1;32m      <a href='vscode-notebook-cell:/Users/ivanmindlin/Repos/dyn_fic_dmf/python/bayesOpt.ipynb#W3sZmlsZQ%3D%3D?line=3'>4</a>\u001b[0m \u001b[39mprint\u001b[39m(\u001b[39m'\u001b[39m\u001b[39mbest accuracy:\u001b[39m\u001b[39m'\u001b[39m, results[\u001b[39m'\u001b[39m\u001b[39mbest_objective\u001b[39m\u001b[39m'\u001b[39m])\n",
      "File \u001b[0;32m~/miniforge3/envs/fic/lib/python3.9/site-packages/mango/tuner.py:156\u001b[0m, in \u001b[0;36mTuner.maximize\u001b[0;34m(self)\u001b[0m\n\u001b[1;32m    155\u001b[0m \u001b[39mdef\u001b[39;00m \u001b[39mmaximize\u001b[39m(\u001b[39mself\u001b[39m):\n\u001b[0;32m--> 156\u001b[0m     \u001b[39mreturn\u001b[39;00m \u001b[39mself\u001b[39;49m\u001b[39m.\u001b[39;49mrun()\n",
      "File \u001b[0;32m~/miniforge3/envs/fic/lib/python3.9/site-packages/mango/tuner.py:147\u001b[0m, in \u001b[0;36mTuner.run\u001b[0;34m(self)\u001b[0m\n\u001b[1;32m    145\u001b[0m \u001b[39mdef\u001b[39;00m \u001b[39mrun\u001b[39m(\u001b[39mself\u001b[39m):\n\u001b[1;32m    146\u001b[0m     \u001b[39mif\u001b[39;00m \u001b[39mself\u001b[39m\u001b[39m.\u001b[39mconfig\u001b[39m.\u001b[39mis_bayesian:\n\u001b[0;32m--> 147\u001b[0m         \u001b[39mself\u001b[39m\u001b[39m.\u001b[39mresults \u001b[39m=\u001b[39m \u001b[39mself\u001b[39;49m\u001b[39m.\u001b[39;49mrunBayesianOptimizer()\n\u001b[1;32m    148\u001b[0m     \u001b[39melif\u001b[39;00m \u001b[39mself\u001b[39m\u001b[39m.\u001b[39mconfig\u001b[39m.\u001b[39mis_random:\n\u001b[1;32m    149\u001b[0m         \u001b[39mself\u001b[39m\u001b[39m.\u001b[39mresults \u001b[39m=\u001b[39m \u001b[39mself\u001b[39m\u001b[39m.\u001b[39mrunRandomOptimizer()\n",
      "File \u001b[0;32m~/miniforge3/envs/fic/lib/python3.9/site-packages/mango/tuner.py:274\u001b[0m, in \u001b[0;36mTuner.runBayesianOptimizer\u001b[0;34m(self)\u001b[0m\n\u001b[1;32m    271\u001b[0m     X_next_PS \u001b[39m=\u001b[39m \u001b[39mself\u001b[39m\u001b[39m.\u001b[39mds\u001b[39m.\u001b[39mget_random_sample(\u001b[39mself\u001b[39m\u001b[39m.\u001b[39mconfig\u001b[39m.\u001b[39mbatch_size)\n\u001b[1;32m    273\u001b[0m \u001b[39m# Evaluate the Objective function\u001b[39;00m\n\u001b[0;32m--> 274\u001b[0m X_next_list, Y_next_list \u001b[39m=\u001b[39m \u001b[39mself\u001b[39;49m\u001b[39m.\u001b[39;49mrunUserObjective(X_next_PS)\n\u001b[1;32m    276\u001b[0m \u001b[39m# keep track of all parameters that failed\u001b[39;00m\n\u001b[1;32m    277\u001b[0m x_failed \u001b[39m=\u001b[39m [x \u001b[39mfor\u001b[39;00m x \u001b[39min\u001b[39;00m X_next_PS \u001b[39mif\u001b[39;00m x \u001b[39mnot\u001b[39;00m \u001b[39min\u001b[39;00m X_next_list]\n",
      "File \u001b[0;32m~/miniforge3/envs/fic/lib/python3.9/site-packages/mango/tuner.py:374\u001b[0m, in \u001b[0;36mTuner.runUserObjective\u001b[0;34m(self, X_next_PS)\u001b[0m\n\u001b[1;32m    371\u001b[0m \u001b[39mdef\u001b[39;00m \u001b[39mrunUserObjective\u001b[39m(\u001b[39mself\u001b[39m, X_next_PS):\n\u001b[1;32m    372\u001b[0m     \u001b[39m# initially assuming entire X_next_PS is evaluated and returned results are only Y values\u001b[39;00m\n\u001b[1;32m    373\u001b[0m     X_list_evaluated \u001b[39m=\u001b[39m X_next_PS\n\u001b[0;32m--> 374\u001b[0m     results \u001b[39m=\u001b[39m \u001b[39mself\u001b[39;49m\u001b[39m.\u001b[39;49mobjective_function(X_next_PS)\n\u001b[1;32m    375\u001b[0m     Y_list_evaluated \u001b[39m=\u001b[39m results\n\u001b[1;32m    377\u001b[0m     \u001b[39m# if result is a tuple, then there is possibility that partial values are evaluated\u001b[39;00m\n",
      "File \u001b[0;32m~/miniforge3/envs/fic/lib/python3.9/site-packages/mango/scheduler.py:30\u001b[0m, in \u001b[0;36mparallel.<locals>.decorator.<locals>.wrapper\u001b[0;34m(params_batch)\u001b[0m\n\u001b[1;32m     28\u001b[0m \u001b[39m@functools\u001b[39m\u001b[39m.\u001b[39mwraps(func)\n\u001b[1;32m     29\u001b[0m \u001b[39mdef\u001b[39;00m \u001b[39mwrapper\u001b[39m(params_batch):\n\u001b[0;32m---> 30\u001b[0m     \u001b[39mreturn\u001b[39;00m Parallel(n_jobs)(delayed(func)(\u001b[39m*\u001b[39;49m\u001b[39m*\u001b[39;49mparams) \u001b[39mfor\u001b[39;49;00m params \u001b[39min\u001b[39;49;00m params_batch)\n",
      "File \u001b[0;32m~/miniforge3/envs/fic/lib/python3.9/site-packages/joblib/parallel.py:1952\u001b[0m, in \u001b[0;36mParallel.__call__\u001b[0;34m(self, iterable)\u001b[0m\n\u001b[1;32m   1946\u001b[0m \u001b[39m# The first item from the output is blank, but it makes the interpreter\u001b[39;00m\n\u001b[1;32m   1947\u001b[0m \u001b[39m# progress until it enters the Try/Except block of the generator and\u001b[39;00m\n\u001b[1;32m   1948\u001b[0m \u001b[39m# reach the first `yield` statement. This starts the aynchronous\u001b[39;00m\n\u001b[1;32m   1949\u001b[0m \u001b[39m# dispatch of the tasks to the workers.\u001b[39;00m\n\u001b[1;32m   1950\u001b[0m \u001b[39mnext\u001b[39m(output)\n\u001b[0;32m-> 1952\u001b[0m \u001b[39mreturn\u001b[39;00m output \u001b[39mif\u001b[39;00m \u001b[39mself\u001b[39m\u001b[39m.\u001b[39mreturn_generator \u001b[39melse\u001b[39;00m \u001b[39mlist\u001b[39;49m(output)\n",
      "File \u001b[0;32m~/miniforge3/envs/fic/lib/python3.9/site-packages/joblib/parallel.py:1595\u001b[0m, in \u001b[0;36mParallel._get_outputs\u001b[0;34m(self, iterator, pre_dispatch)\u001b[0m\n\u001b[1;32m   1592\u001b[0m     \u001b[39myield\u001b[39;00m\n\u001b[1;32m   1594\u001b[0m     \u001b[39mwith\u001b[39;00m \u001b[39mself\u001b[39m\u001b[39m.\u001b[39m_backend\u001b[39m.\u001b[39mretrieval_context():\n\u001b[0;32m-> 1595\u001b[0m         \u001b[39myield from\u001b[39;00m \u001b[39mself\u001b[39m\u001b[39m.\u001b[39m_retrieve()\n\u001b[1;32m   1597\u001b[0m \u001b[39mexcept\u001b[39;00m \u001b[39mGeneratorExit\u001b[39;00m:\n\u001b[1;32m   1598\u001b[0m     \u001b[39m# The generator has been garbage collected before being fully\u001b[39;00m\n\u001b[1;32m   1599\u001b[0m     \u001b[39m# consumed. This aborts the remaining tasks if possible and warn\u001b[39;00m\n\u001b[1;32m   1600\u001b[0m     \u001b[39m# the user if necessary.\u001b[39;00m\n\u001b[1;32m   1601\u001b[0m     \u001b[39mself\u001b[39m\u001b[39m.\u001b[39m_exception \u001b[39m=\u001b[39m \u001b[39mTrue\u001b[39;00m\n",
      "File \u001b[0;32m~/miniforge3/envs/fic/lib/python3.9/site-packages/joblib/parallel.py:1707\u001b[0m, in \u001b[0;36mParallel._retrieve\u001b[0;34m(self)\u001b[0m\n\u001b[1;32m   1702\u001b[0m \u001b[39m# If the next job is not ready for retrieval yet, we just wait for\u001b[39;00m\n\u001b[1;32m   1703\u001b[0m \u001b[39m# async callbacks to progress.\u001b[39;00m\n\u001b[1;32m   1704\u001b[0m \u001b[39mif\u001b[39;00m ((\u001b[39mlen\u001b[39m(\u001b[39mself\u001b[39m\u001b[39m.\u001b[39m_jobs) \u001b[39m==\u001b[39m \u001b[39m0\u001b[39m) \u001b[39mor\u001b[39;00m\n\u001b[1;32m   1705\u001b[0m     (\u001b[39mself\u001b[39m\u001b[39m.\u001b[39m_jobs[\u001b[39m0\u001b[39m]\u001b[39m.\u001b[39mget_status(\n\u001b[1;32m   1706\u001b[0m         timeout\u001b[39m=\u001b[39m\u001b[39mself\u001b[39m\u001b[39m.\u001b[39mtimeout) \u001b[39m==\u001b[39m TASK_PENDING)):\n\u001b[0;32m-> 1707\u001b[0m     time\u001b[39m.\u001b[39;49msleep(\u001b[39m0.01\u001b[39;49m)\n\u001b[1;32m   1708\u001b[0m     \u001b[39mcontinue\u001b[39;00m\n\u001b[1;32m   1710\u001b[0m \u001b[39m# We need to be careful: the job list can be filling up as\u001b[39;00m\n\u001b[1;32m   1711\u001b[0m \u001b[39m# we empty it and Python list are not thread-safe by\u001b[39;00m\n\u001b[1;32m   1712\u001b[0m \u001b[39m# default hence the use of the lock\u001b[39;00m\n",
      "\u001b[0;31mKeyboardInterrupt\u001b[0m: "
     ]
    }
   ],
   "source": [
    "tuner = Tuner(pbounds, bayes_step, conf_dict)\n",
    "results = tuner.maximize()\n",
    "print('best parameters:', results['best_params'])\n",
    "print('best accuracy:', results['best_objective'])"
   ]
  },
  {
   "cell_type": "code",
   "execution_count": null,
   "metadata": {},
   "outputs": [],
   "source": []
  }
 ],
 "metadata": {
  "kernelspec": {
   "display_name": "fic",
   "language": "python",
   "name": "python3"
  },
  "language_info": {
   "codemirror_mode": {
    "name": "ipython",
    "version": 3
   },
   "file_extension": ".py",
   "mimetype": "text/x-python",
   "name": "python",
   "nbconvert_exporter": "python",
   "pygments_lexer": "ipython3",
   "version": "3.9.18"
  }
 },
 "nbformat": 4,
 "nbformat_minor": 2
}
